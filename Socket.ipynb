{
 "cells": [
  {
   "cell_type": "code",
   "execution_count": null,
   "id": "55abb03d-b5ba-402a-8306-88201703a927",
   "metadata": {},
   "outputs": [],
   "source": [
    "import socket\n",
    "import threading\n",
    "# Server configuration\n",
    "HOST = '127.0.0.1'\n",
    "PORT = 12345\n",
    "# Create a socket\n",
    "server_socket = socket.socket(socket.AF_INET, socket.SOCK_STREAM)\n",
    "server_socket.bind((HOST, PORT))\n",
    "server_socket.listen(5)\n",
    "# List to store client threads\n",
    "client_threads = []\n",
    "# Function to handle a client connection\n",
    "def handle_client(client_socket):\n",
    "    while True:\n",
    "        data = client_socket.recv(1024)\n",
    "        if not data:\n",
    "            break\n",
    "        print(\"Received: \" + data.decode('utf-8'))\n",
    "        response = \"Server received: \" + data.decode('utf-8')\n",
    "        client_socket.send(response.encode('utf-8'))\n",
    "    client_socket.close()\n",
    "# Accept and handle incoming connections\n",
    "print(\"Server listening on {}:{}\".format(HOST, PORT))\n",
    "while True:\n",
    "    client_sock, addr = server_socket.accept()\n",
    "    print(\"Accepted connection from {}:{}\".format(addr[0], addr[1]))\n",
    "    \n",
    "    # Create a new thread to handle the client\n",
    "    client_thread = threading.Thread(target=handle_client, args=(client_sock,))\n",
    "    client_thread.start()\n",
    "    client_threads.append(client_thread)\n",
    "    "
   ]
  },
  {
   "cell_type": "code",
   "execution_count": null,
   "id": "63dcd526-80ff-450d-b111-38f1f67a1f71",
   "metadata": {},
   "outputs": [],
   "source": [
    "import socket\n",
    "# Client configuration\n",
    "SERVER_HOST = '127.0.0.1'\n",
    "SERVER_PORT = 12345\n",
    "# Create a socket\n",
    "client_socket = socket.socket(socket.AF_INET, socket.SOCK_STREAM)\n",
    "# Connect to the server\n",
    "client_socket.connect((SERVER_HOST, SERVER_PORT))\n",
    "while True:\n",
    "    message = input(\"Enter a message to send to the server (or 'exit' to quit): \")\n",
    "    \n",
    "    if message == 'exit':\n",
    "        break\n",
    "    \n",
    "    # Send the message to the server\n",
    "    client_socket.send(message.encode('utf-8'))\n",
    "    \n",
    "    # Receive and print the server's response\n",
    "    response = client_socket.recv(1024).decode('utf-8')\n",
    "    print(\"Server response: \" + response)\n",
    "# Close the socket\n",
    "client_socket.close()"
   ]
  }
 ],
 "metadata": {
  "kernelspec": {
   "display_name": "anaconda-panel-2023.05-py310",
   "language": "python",
   "name": "conda-env-anaconda-panel-2023.05-py310-py"
  },
  "language_info": {
   "codemirror_mode": {
    "name": "ipython",
    "version": 3
   },
   "file_extension": ".py",
   "mimetype": "text/x-python",
   "name": "python",
   "nbconvert_exporter": "python",
   "pygments_lexer": "ipython3",
   "version": "3.11.4"
  }
 },
 "nbformat": 4,
 "nbformat_minor": 5
}
